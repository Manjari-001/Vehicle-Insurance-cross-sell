{
  "nbformat": 4,
  "nbformat_minor": 0,
  "metadata": {
    "colab": {
      "name": "All stars - ML -  Health insurance cross sell",
      "provenance": [],
      "collapsed_sections": [],
      "include_colab_link": true
    },
    "kernelspec": {
      "name": "python3",
      "display_name": "Python 3"
    },
    "language_info": {
      "name": "python"
    }
  },
  "cells": [
    {
      "cell_type": "markdown",
      "metadata": {
        "id": "view-in-github",
        "colab_type": "text"
      },
      "source": [
        "<a href=\"https://colab.research.google.com/github/Manjari-001/Vehicle-Insurance-cross-sell/blob/main/All_stars_ML_Health_insurance_cross_sell.ipynb\" target=\"_parent\"><img src=\"https://colab.research.google.com/assets/colab-badge.svg\" alt=\"Open In Colab\"/></a>"
      ]
    },
    {
      "cell_type": "markdown",
      "metadata": {
        "id": "LGcl5Bv9ed6u"
      },
      "source": [
        "# **Problem Statement**"
      ]
    },
    {
      "cell_type": "markdown",
      "metadata": {
        "id": "jJAmGx75jJk1"
      },
      "source": [
        "Our client is an Insurance company that has provided Health Insurance to its customers now they need your help in building a model to predict whether the policyholders (customers) from past year will also be interested in Vehicle Insurance provided by the company.\n",
        "\n",
        "An insurance policy is an arrangement by which a company undertakes to provide a guarantee of compensation for specified loss, damage, illness, or death in return for the payment of a specified premium. A premium is a sum of money that the customer needs to pay regularly to an insurance company for this guarantee.\n",
        "\n",
        "For example, you may pay a premium of Rs. 5000 each year for a health insurance cover of Rs. 200,000/- so that if, God forbid, you fall ill and need to be hospitalised in that year, the insurance provider company will bear the cost of hospitalisation etc. for upto Rs. 200,000. Now if you are wondering how can company bear such high hospitalisation cost when it charges a premium of only Rs. 5000/-, that is where the concept of probabilities comes in picture. For example, like you, there may be 100 customers who would be paying a premium of Rs. 5000 every year, but only a few of them (say 2-3) would get hospitalised that year and not everyone. This way everyone shares the risk of everyone else.\n",
        "\n",
        "Just like medical insurance, there is vehicle insurance where every year customer needs to pay a premium of certain amount to insurance provider company so that in case of unfortunate accident by the vehicle, the insurance provider company will provide a compensation (called ‘sum assured’) to the customer.\n",
        "\n",
        "Building a model to predict whether a customer would be interested in Vehicle Insurance is extremely helpful for the company because it can then accordingly plan its communication strategy to reach out to those customers and optimise its business model and revenue.\n",
        "\n",
        "Now, in order to predict, whether the customer would be interested in Vehicle insurance, you have information about demographics (gender, age, region code type), Vehicles (Vehicle Age, Damage), Policy (Premium, sourcing channel) etc."
      ]
    },
    {
      "cell_type": "markdown",
      "source": [
        "# <b> Business Goal </b>\n",
        "Building a model to see whether a client would be keen on Vehicle Insurance is very useful for the organization since it can then accordingly plan its marketing strategy to connect with those clients and advance its plan of action and income.\n"
      ],
      "metadata": {
        "id": "1WHeqiJ1494M"
      }
    },
    {
      "cell_type": "markdown",
      "metadata": {
        "id": "AzGDqdC4fZ-b"
      },
      "source": [
        "# **Attribute Information**"
      ]
    },
    {
      "cell_type": "markdown",
      "metadata": {
        "id": "oEJxl68MjYbs"
      },
      "source": [
        "1. id :\tUnique ID for the customer\n",
        "\n",
        "2. Gender\t: Gender of the customer\n",
        "\n",
        "3. Age :\tAge of the customer\n",
        "\n",
        "4. Driving_License\t0 : Customer does not have DL, 1 : Customer already has DL\n",
        "\n",
        "5. Region_Code :\tUnique code for the region of the customer\n",
        "\n",
        "6. Previously_Insured\t: 1 : Customer already has Vehicle Insurance, 0 : Customer doesn't have Vehicle Insurance\n",
        "\n",
        "7. Vehicle_Age :\tAge of the Vehicle\n",
        "\n",
        "8. Vehicle_Damage\t :1 : Customer got his/her vehicle damaged in the past. 0 : Customer didn't get his/her vehicle damaged in the past.\n",
        "\n",
        "9. Annual_Premium\t: The amount customer needs to pay as premium in the year\n",
        "\n",
        "10. PolicySalesChannel :\tAnonymized Code for the channel of outreaching to the customer ie. Different Agents, Over Mail, Over Phone, In Person, etc.\n",
        "\n",
        "11. Vintage :\tNumber of Days, Customer has been associated with the company\n",
        "\n",
        "12. Response :\t1 : Customer is interested, 0 : Customer is not interested"
      ]
    },
    {
      "cell_type": "code",
      "source": [
        "#importing necessary libraries\n",
        "import pandas as pd\n",
        "import numpy as np\n",
        "import matplotlib.pyplot as plt\n",
        "import seaborn as sns\n",
        "sns.set_style(\"darkgrid\")\n",
        "\n",
        "from sklearn.model_selection import train_test_split\n",
        "\n",
        "from sklearn.linear_model import LinearRegression\n",
        "from sklearn.linear_model import Ridge\n",
        "from sklearn.linear_model import Lasso\n",
        "from sklearn.svm import SVR\n",
        "from sklearn.tree import DecisionTreeRegressor\n",
        "from sklearn.ensemble import RandomForestRegressor\n",
        "from sklearn.neighbors import KNeighborsRegressor\n",
        "from sklearn.metrics import mean_absolute_error as mae, mean_squared_error as mse, r2_score\n",
        "\n",
        "import warnings\n",
        "warnings.filterwarnings('ignore')"
      ],
      "metadata": {
        "id": "L1SDGf4lgIlD"
      },
      "execution_count": null,
      "outputs": []
    },
    {
      "cell_type": "code",
      "source": [
        "#importing the dataset\n",
        "from google.colab import drive\n",
        "drive.mount('/content/drive')"
      ],
      "metadata": {
        "colab": {
          "base_uri": "https://localhost:8080/",
          "height": 346
        },
        "id": "jRU_SjRxjp_x",
        "outputId": "48817a8d-0136-41fa-94ec-c38b8090410d"
      },
      "execution_count": null,
      "outputs": [
        {
          "output_type": "error",
          "ename": "MessageError",
          "evalue": "ignored",
          "traceback": [
            "\u001b[0;31m---------------------------------------------------------------------------\u001b[0m",
            "\u001b[0;31mMessageError\u001b[0m                              Traceback (most recent call last)",
            "\u001b[0;32m<ipython-input-3-2058376ea597>\u001b[0m in \u001b[0;36m<module>\u001b[0;34m()\u001b[0m\n\u001b[1;32m      1\u001b[0m \u001b[0;31m#importing the dataset\u001b[0m\u001b[0;34m\u001b[0m\u001b[0;34m\u001b[0m\u001b[0;34m\u001b[0m\u001b[0m\n\u001b[1;32m      2\u001b[0m \u001b[0;32mfrom\u001b[0m \u001b[0mgoogle\u001b[0m\u001b[0;34m.\u001b[0m\u001b[0mcolab\u001b[0m \u001b[0;32mimport\u001b[0m \u001b[0mdrive\u001b[0m\u001b[0;34m\u001b[0m\u001b[0;34m\u001b[0m\u001b[0m\n\u001b[0;32m----> 3\u001b[0;31m \u001b[0mdrive\u001b[0m\u001b[0;34m.\u001b[0m\u001b[0mmount\u001b[0m\u001b[0;34m(\u001b[0m\u001b[0;34m'/content/drive'\u001b[0m\u001b[0;34m)\u001b[0m\u001b[0;34m\u001b[0m\u001b[0;34m\u001b[0m\u001b[0m\n\u001b[0m",
            "\u001b[0;32m/usr/local/lib/python3.7/dist-packages/google/colab/drive.py\u001b[0m in \u001b[0;36mmount\u001b[0;34m(mountpoint, force_remount, timeout_ms, use_metadata_server)\u001b[0m\n\u001b[1;32m    111\u001b[0m       \u001b[0mtimeout_ms\u001b[0m\u001b[0;34m=\u001b[0m\u001b[0mtimeout_ms\u001b[0m\u001b[0;34m,\u001b[0m\u001b[0;34m\u001b[0m\u001b[0;34m\u001b[0m\u001b[0m\n\u001b[1;32m    112\u001b[0m       \u001b[0muse_metadata_server\u001b[0m\u001b[0;34m=\u001b[0m\u001b[0muse_metadata_server\u001b[0m\u001b[0;34m,\u001b[0m\u001b[0;34m\u001b[0m\u001b[0;34m\u001b[0m\u001b[0m\n\u001b[0;32m--> 113\u001b[0;31m       ephemeral=ephemeral)\n\u001b[0m\u001b[1;32m    114\u001b[0m \u001b[0;34m\u001b[0m\u001b[0m\n\u001b[1;32m    115\u001b[0m \u001b[0;34m\u001b[0m\u001b[0m\n",
            "\u001b[0;32m/usr/local/lib/python3.7/dist-packages/google/colab/drive.py\u001b[0m in \u001b[0;36m_mount\u001b[0;34m(mountpoint, force_remount, timeout_ms, use_metadata_server, ephemeral)\u001b[0m\n\u001b[1;32m    134\u001b[0m   \u001b[0;32mif\u001b[0m \u001b[0mephemeral\u001b[0m\u001b[0;34m:\u001b[0m\u001b[0;34m\u001b[0m\u001b[0;34m\u001b[0m\u001b[0m\n\u001b[1;32m    135\u001b[0m     _message.blocking_request(\n\u001b[0;32m--> 136\u001b[0;31m         'request_auth', request={'authType': 'dfs_ephemeral'}, timeout_sec=None)\n\u001b[0m\u001b[1;32m    137\u001b[0m \u001b[0;34m\u001b[0m\u001b[0m\n\u001b[1;32m    138\u001b[0m   \u001b[0mmountpoint\u001b[0m \u001b[0;34m=\u001b[0m \u001b[0m_os\u001b[0m\u001b[0;34m.\u001b[0m\u001b[0mpath\u001b[0m\u001b[0;34m.\u001b[0m\u001b[0mexpanduser\u001b[0m\u001b[0;34m(\u001b[0m\u001b[0mmountpoint\u001b[0m\u001b[0;34m)\u001b[0m\u001b[0;34m\u001b[0m\u001b[0;34m\u001b[0m\u001b[0m\n",
            "\u001b[0;32m/usr/local/lib/python3.7/dist-packages/google/colab/_message.py\u001b[0m in \u001b[0;36mblocking_request\u001b[0;34m(request_type, request, timeout_sec, parent)\u001b[0m\n\u001b[1;32m    173\u001b[0m   request_id = send_request(\n\u001b[1;32m    174\u001b[0m       request_type, request, parent=parent, expect_reply=True)\n\u001b[0;32m--> 175\u001b[0;31m   \u001b[0;32mreturn\u001b[0m \u001b[0mread_reply_from_input\u001b[0m\u001b[0;34m(\u001b[0m\u001b[0mrequest_id\u001b[0m\u001b[0;34m,\u001b[0m \u001b[0mtimeout_sec\u001b[0m\u001b[0;34m)\u001b[0m\u001b[0;34m\u001b[0m\u001b[0;34m\u001b[0m\u001b[0m\n\u001b[0m",
            "\u001b[0;32m/usr/local/lib/python3.7/dist-packages/google/colab/_message.py\u001b[0m in \u001b[0;36mread_reply_from_input\u001b[0;34m(message_id, timeout_sec)\u001b[0m\n\u001b[1;32m    104\u001b[0m         reply.get('colab_msg_id') == message_id):\n\u001b[1;32m    105\u001b[0m       \u001b[0;32mif\u001b[0m \u001b[0;34m'error'\u001b[0m \u001b[0;32min\u001b[0m \u001b[0mreply\u001b[0m\u001b[0;34m:\u001b[0m\u001b[0;34m\u001b[0m\u001b[0;34m\u001b[0m\u001b[0m\n\u001b[0;32m--> 106\u001b[0;31m         \u001b[0;32mraise\u001b[0m \u001b[0mMessageError\u001b[0m\u001b[0;34m(\u001b[0m\u001b[0mreply\u001b[0m\u001b[0;34m[\u001b[0m\u001b[0;34m'error'\u001b[0m\u001b[0;34m]\u001b[0m\u001b[0;34m)\u001b[0m\u001b[0;34m\u001b[0m\u001b[0;34m\u001b[0m\u001b[0m\n\u001b[0m\u001b[1;32m    107\u001b[0m       \u001b[0;32mreturn\u001b[0m \u001b[0mreply\u001b[0m\u001b[0;34m.\u001b[0m\u001b[0mget\u001b[0m\u001b[0;34m(\u001b[0m\u001b[0;34m'data'\u001b[0m\u001b[0;34m,\u001b[0m \u001b[0;32mNone\u001b[0m\u001b[0;34m)\u001b[0m\u001b[0;34m\u001b[0m\u001b[0;34m\u001b[0m\u001b[0m\n\u001b[1;32m    108\u001b[0m \u001b[0;34m\u001b[0m\u001b[0m\n",
            "\u001b[0;31mMessageError\u001b[0m: Error: credential propagation was unsuccessful"
          ]
        }
      ]
    },
    {
      "cell_type": "code",
      "source": [
        "df = pd.read_csv('/content/drive/MyDrive/Copy of TRAIN-HEALTH INSURANCE CROSS SELL PREDICTION.csv')"
      ],
      "metadata": {
        "id": "ZDmp6S6vg5t9"
      },
      "execution_count": null,
      "outputs": []
    },
    {
      "cell_type": "code",
      "source": [
        "df.head()"
      ],
      "metadata": {
        "id": "oMmSCEi8kEeC"
      },
      "execution_count": null,
      "outputs": []
    },
    {
      "cell_type": "code",
      "source": [
        "df.tail()"
      ],
      "metadata": {
        "id": "LkuGqm38kF80"
      },
      "execution_count": null,
      "outputs": []
    },
    {
      "cell_type": "markdown",
      "source": [
        "# Step 1 : Statistical Inference and Data pre-processing"
      ],
      "metadata": {
        "id": "shoSPujZ5INl"
      }
    },
    {
      "cell_type": "code",
      "source": [
        "#Total Observations\n",
        "print(\"rows: \", df.shape[0])\n",
        "\n",
        "#Total Features\n",
        "print(\"columns: \", df.shape[1])"
      ],
      "metadata": {
        "id": "KEqAHouXl5tG"
      },
      "execution_count": null,
      "outputs": []
    },
    {
      "cell_type": "code",
      "source": [
        "#Overview of given dataset\n",
        "df.info()"
      ],
      "metadata": {
        "id": "8LIZ_4Hf1ax5"
      },
      "execution_count": null,
      "outputs": []
    },
    {
      "cell_type": "code",
      "source": [
        "#Checking for data types of features given in the dataset\n",
        "df.dtypes"
      ],
      "metadata": {
        "id": "SeHKPTLQ1qHl"
      },
      "execution_count": null,
      "outputs": []
    },
    {
      "cell_type": "code",
      "source": [
        "#Data Description\n",
        "df.describe()"
      ],
      "metadata": {
        "id": "m-mlVWGP5OpG"
      },
      "execution_count": null,
      "outputs": []
    },
    {
      "cell_type": "code",
      "source": [
        "#Checking for Missing Values in given dataset\n",
        "df.isna().sum()"
      ],
      "metadata": {
        "id": "3x8bRrsj5SL7"
      },
      "execution_count": null,
      "outputs": []
    },
    {
      "cell_type": "code",
      "source": [
        "# Finding Unique Values for each Variable\n",
        "df.nunique()"
      ],
      "metadata": {
        "id": "tohn3Dne5ZOz"
      },
      "execution_count": null,
      "outputs": []
    },
    {
      "cell_type": "markdown",
      "source": [
        "# <b> Data Visualization"
      ],
      "metadata": {
        "id": "185eDgEZ500_"
      }
    },
    {
      "cell_type": "markdown",
      "source": [
        "Target feature"
      ],
      "metadata": {
        "id": "c_OSDoAHzFx8"
      }
    },
    {
      "cell_type": "code",
      "source": [
        "#checking the distribution of target variable\n",
        "plt.subplot(1, 2, 1)\n",
        "sns.countplot(df['Response'])\n",
        "plt.title('Count of Target variable')\n",
        "\n",
        "plt.subplot(1,2,2)\n",
        "count = df['Response'].value_counts()\n",
        "count.plot.pie(autopct = '%1.1f%%',figsize = (10,8),explode = [0,0.1])\n",
        "\n",
        "plt.title('Percentage of Response variable')"
      ],
      "metadata": {
        "id": "vjJ9qYIs6S1X"
      },
      "execution_count": null,
      "outputs": []
    },
    {
      "cell_type": "markdown",
      "source": [
        "- From the above graph, we can see that the count of people not opting for the vehicle insurance is more than the ones opting for. \n"
      ],
      "metadata": {
        "id": "Zc21qVlfx3js"
      }
    },
    {
      "cell_type": "markdown",
      "source": [
        "Gender"
      ],
      "metadata": {
        "id": "FrQ6JE-LzK3P"
      }
    },
    {
      "cell_type": "code",
      "source": [
        "#Checking the distribution of Gender variable and their responses\n",
        "plt.figure(figsize = (13,5))\n",
        "plt.subplot(1,2,1)\n",
        "sns.countplot(df['Gender'])\n",
        "plt.title(\"Distribution of gender\")\n",
        "plt.subplot(1,2,2)\n",
        "sns.countplot(df['Gender'], hue = df['Response'])\n",
        "plt.title(\"Responses of Male and Female\")\n",
        "plt.show()"
      ],
      "metadata": {
        "id": "lHpnER29wNNj"
      },
      "execution_count": null,
      "outputs": []
    },
    {
      "cell_type": "markdown",
      "source": [
        "- We can see that, the count of Male opting for the insurance is more than that of Female probably because of the assymetrical distribution of data in the given dataset."
      ],
      "metadata": {
        "id": "LKxi8hj6z-s_"
      }
    },
    {
      "cell_type": "markdown",
      "source": [
        "Age variable"
      ],
      "metadata": {
        "id": "_dhGLxou2hdE"
      }
    },
    {
      "cell_type": "code",
      "source": [
        "#Checking the distribution of age along with responses\n",
        "plt.figure(figsize=(20,10))\n",
        "sns.countplot(x='Age',hue='Response',data=df)"
      ],
      "metadata": {
        "id": "VOe5IJDhycPV"
      },
      "execution_count": null,
      "outputs": []
    },
    {
      "cell_type": "markdown",
      "source": [
        "- We can see that people of age 28-55 tend to buy insurance more than the ones who doesn't fall under this category."
      ],
      "metadata": {
        "id": "jszPBtcQ401G"
      }
    },
    {
      "cell_type": "markdown",
      "source": [
        "Driving License"
      ],
      "metadata": {
        "id": "EmN_MpYH8fLQ"
      }
    },
    {
      "cell_type": "code",
      "source": [
        "#Checking the distribution of people with driving license along with the responses\n",
        "print(\"Percentage of  Driving_License feature\\n \")\n",
        "print(df['Driving_License'].value_counts()/len(df)*100)\n",
        "f,ax = plt.subplots(nrows=1,ncols=2,figsize=(12,6))\n",
        "axx = ax.flatten()\n",
        "plt.title(\"Count plot of Driving_License vs Response\")\n",
        "sns.countplot(df['Driving_License'],ax = axx[0],palette = 'rocket')\n",
        "sns.countplot('Driving_License', hue = 'Response',ax =axx[1],data = df)"
      ],
      "metadata": {
        "id": "uXi9vxlP8oB4"
      },
      "execution_count": null,
      "outputs": []
    },
    {
      "cell_type": "markdown",
      "source": [
        "- We can see that, the major chunk of people in our dataset have driving license(99%)"
      ],
      "metadata": {
        "id": "TGZAU_hUAOKq"
      }
    },
    {
      "cell_type": "markdown",
      "source": [
        "Previously insured"
      ],
      "metadata": {
        "id": "c370WPB4AqcM"
      }
    },
    {
      "cell_type": "code",
      "source": [
        "#Checking the distribution of people if they were previously insured along with their responses\n",
        "f,ax = plt.subplots(nrows=1,ncols=2,figsize=(12,5))\n",
        "axx = ax.flatten()\n",
        "sns.countplot(df['Previously_Insured'],ax = axx[0])\n",
        "sns.countplot('Previously_Insured', hue = 'Response',ax =axx[1],data = df)"
      ],
      "metadata": {
        "id": "buE8_nVC_pik"
      },
      "execution_count": null,
      "outputs": []
    },
    {
      "cell_type": "markdown",
      "source": [
        "- We can see that the people who were not insured previously are the ones who are buying the insurance now and there's a huge dip for the ones who were previously insured."
      ],
      "metadata": {
        "id": "7Z_yHCu_EPC2"
      }
    },
    {
      "cell_type": "markdown",
      "source": [
        "Vehicle age"
      ],
      "metadata": {
        "id": "0MoO2bOIG3mc"
      }
    },
    {
      "cell_type": "code",
      "source": [
        "#Checking the distribution of vehicle age along with previously insured\n",
        "sns.countplot(df[\"Vehicle_Age\"],hue=df[\"Previously_Insured\"])"
      ],
      "metadata": {
        "id": "WRe8-cpJBNpL"
      },
      "execution_count": null,
      "outputs": []
    },
    {
      "cell_type": "markdown",
      "source": [
        "- We can see that people with vehicle age less than 1 year are the ones who bought the insurance followed by the ones with vehicles which are 1-2 year old. And people with vehicle age greater than 2 years old are showing least interest in buying the insurance this time."
      ],
      "metadata": {
        "id": "bH4p4F3nFFkF"
      }
    },
    {
      "cell_type": "markdown",
      "source": [
        "Vehicle damage"
      ],
      "metadata": {
        "id": "Ww3cis0BG68k"
      }
    },
    {
      "cell_type": "code",
      "source": [
        "#Checking the distribution of vehicle damage along with the responses\n",
        "plt.title(\"Plot of vechicle damage vs response\")\n",
        "sns.countplot('Vehicle_Damage', hue = 'Response',data = df)\n",
        "plt.show()"
      ],
      "metadata": {
        "id": "bi4YoguPHFmD"
      },
      "execution_count": null,
      "outputs": []
    },
    {
      "cell_type": "markdown",
      "source": [
        "- We can see that people whose vehicles are damaged tend to buy insurance compared to the ones whose vehicles are not."
      ],
      "metadata": {
        "id": "CQejsukQHbUl"
      }
    },
    {
      "cell_type": "markdown",
      "source": [
        "Annual Premium"
      ],
      "metadata": {
        "id": "mxY9On4zII-f"
      }
    },
    {
      "cell_type": "code",
      "source": [
        "#Checking the distribution of insurance premium\n",
        "plt.figure(figsize=(13,7))\n",
        "sns.boxplot(df['Annual_Premium'],color='green')\n",
        "plt.title(\"boxplot of Annual premium\")\n",
        "plt.show()"
      ],
      "metadata": {
        "id": "sP7LWrH5IKqE"
      },
      "execution_count": null,
      "outputs": []
    },
    {
      "cell_type": "code",
      "source": [
        "#Checking correlation between variables\n",
        "plt.figure(figsize=(10,5))\n",
        "sns.heatmap(df.corr(),annot=True)\n",
        "plt.show()"
      ],
      "metadata": {
        "id": "_x_KIpCzK0jT"
      },
      "execution_count": null,
      "outputs": []
    },
    {
      "cell_type": "code",
      "source": [
        ""
      ],
      "metadata": {
        "id": "kjLT11TG0Ho9"
      },
      "execution_count": null,
      "outputs": []
    },
    {
      "cell_type": "markdown",
      "source": [
        "## <b>Label Encoding"
      ],
      "metadata": {
        "id": "_2IEcLQl2Eww"
      }
    },
    {
      "cell_type": "code",
      "source": [
        "#Encoding categorical variables into numeric Values\n",
        "from sklearn.preprocessing import LabelEncoder\n",
        "labelEncoder= LabelEncoder()\n",
        "df['Gender'] = labelEncoder.fit_transform(df['Gender'])\n",
        "df['Vehicle_Age'] = labelEncoder.fit_transform(df['Vehicle_Age'])\n",
        "df['Vehicle_Damage'] = labelEncoder.fit_transform(df['Vehicle_Damage'])"
      ],
      "metadata": {
        "id": "gEM_Q5ZK1tSu"
      },
      "execution_count": null,
      "outputs": []
    },
    {
      "cell_type": "markdown",
      "source": [
        "# Seperating Target and Independant Variable"
      ],
      "metadata": {
        "id": "SFfcZM2oy52f"
      }
    },
    {
      "cell_type": "code",
      "source": [
        "x=df.drop(['Response'],axis=1) \n",
        "y=df['Response']   \n",
        "x.head()   "
      ],
      "metadata": {
        "id": "Gi86C7UgK9bB",
        "colab": {
          "base_uri": "https://localhost:8080/",
          "height": 206
        },
        "outputId": "c06e523b-b36b-4494-9dfc-eed053003d56"
      },
      "execution_count": null,
      "outputs": [
        {
          "output_type": "execute_result",
          "data": {
            "text/html": [
              "\n",
              "  <div id=\"df-b7ba6cc0-203e-4740-b817-82ceb4fb7ef1\">\n",
              "    <div class=\"colab-df-container\">\n",
              "      <div>\n",
              "<style scoped>\n",
              "    .dataframe tbody tr th:only-of-type {\n",
              "        vertical-align: middle;\n",
              "    }\n",
              "\n",
              "    .dataframe tbody tr th {\n",
              "        vertical-align: top;\n",
              "    }\n",
              "\n",
              "    .dataframe thead th {\n",
              "        text-align: right;\n",
              "    }\n",
              "</style>\n",
              "<table border=\"1\" class=\"dataframe\">\n",
              "  <thead>\n",
              "    <tr style=\"text-align: right;\">\n",
              "      <th></th>\n",
              "      <th>id</th>\n",
              "      <th>Gender</th>\n",
              "      <th>Age</th>\n",
              "      <th>Driving_License</th>\n",
              "      <th>Region_Code</th>\n",
              "      <th>Previously_Insured</th>\n",
              "      <th>Vehicle_Age</th>\n",
              "      <th>Vehicle_Damage</th>\n",
              "      <th>Annual_Premium</th>\n",
              "      <th>Policy_Sales_Channel</th>\n",
              "      <th>Vintage</th>\n",
              "    </tr>\n",
              "  </thead>\n",
              "  <tbody>\n",
              "    <tr>\n",
              "      <th>0</th>\n",
              "      <td>1</td>\n",
              "      <td>1</td>\n",
              "      <td>44</td>\n",
              "      <td>1</td>\n",
              "      <td>28.0</td>\n",
              "      <td>0</td>\n",
              "      <td>2</td>\n",
              "      <td>1</td>\n",
              "      <td>40454.0</td>\n",
              "      <td>26.0</td>\n",
              "      <td>217</td>\n",
              "    </tr>\n",
              "    <tr>\n",
              "      <th>1</th>\n",
              "      <td>2</td>\n",
              "      <td>1</td>\n",
              "      <td>76</td>\n",
              "      <td>1</td>\n",
              "      <td>3.0</td>\n",
              "      <td>0</td>\n",
              "      <td>0</td>\n",
              "      <td>0</td>\n",
              "      <td>33536.0</td>\n",
              "      <td>26.0</td>\n",
              "      <td>183</td>\n",
              "    </tr>\n",
              "    <tr>\n",
              "      <th>2</th>\n",
              "      <td>3</td>\n",
              "      <td>1</td>\n",
              "      <td>47</td>\n",
              "      <td>1</td>\n",
              "      <td>28.0</td>\n",
              "      <td>0</td>\n",
              "      <td>2</td>\n",
              "      <td>1</td>\n",
              "      <td>38294.0</td>\n",
              "      <td>26.0</td>\n",
              "      <td>27</td>\n",
              "    </tr>\n",
              "    <tr>\n",
              "      <th>3</th>\n",
              "      <td>4</td>\n",
              "      <td>1</td>\n",
              "      <td>21</td>\n",
              "      <td>1</td>\n",
              "      <td>11.0</td>\n",
              "      <td>1</td>\n",
              "      <td>1</td>\n",
              "      <td>0</td>\n",
              "      <td>28619.0</td>\n",
              "      <td>152.0</td>\n",
              "      <td>203</td>\n",
              "    </tr>\n",
              "    <tr>\n",
              "      <th>4</th>\n",
              "      <td>5</td>\n",
              "      <td>0</td>\n",
              "      <td>29</td>\n",
              "      <td>1</td>\n",
              "      <td>41.0</td>\n",
              "      <td>1</td>\n",
              "      <td>1</td>\n",
              "      <td>0</td>\n",
              "      <td>27496.0</td>\n",
              "      <td>152.0</td>\n",
              "      <td>39</td>\n",
              "    </tr>\n",
              "  </tbody>\n",
              "</table>\n",
              "</div>\n",
              "      <button class=\"colab-df-convert\" onclick=\"convertToInteractive('df-b7ba6cc0-203e-4740-b817-82ceb4fb7ef1')\"\n",
              "              title=\"Convert this dataframe to an interactive table.\"\n",
              "              style=\"display:none;\">\n",
              "        \n",
              "  <svg xmlns=\"http://www.w3.org/2000/svg\" height=\"24px\"viewBox=\"0 0 24 24\"\n",
              "       width=\"24px\">\n",
              "    <path d=\"M0 0h24v24H0V0z\" fill=\"none\"/>\n",
              "    <path d=\"M18.56 5.44l.94 2.06.94-2.06 2.06-.94-2.06-.94-.94-2.06-.94 2.06-2.06.94zm-11 1L8.5 8.5l.94-2.06 2.06-.94-2.06-.94L8.5 2.5l-.94 2.06-2.06.94zm10 10l.94 2.06.94-2.06 2.06-.94-2.06-.94-.94-2.06-.94 2.06-2.06.94z\"/><path d=\"M17.41 7.96l-1.37-1.37c-.4-.4-.92-.59-1.43-.59-.52 0-1.04.2-1.43.59L10.3 9.45l-7.72 7.72c-.78.78-.78 2.05 0 2.83L4 21.41c.39.39.9.59 1.41.59.51 0 1.02-.2 1.41-.59l7.78-7.78 2.81-2.81c.8-.78.8-2.07 0-2.86zM5.41 20L4 18.59l7.72-7.72 1.47 1.35L5.41 20z\"/>\n",
              "  </svg>\n",
              "      </button>\n",
              "      \n",
              "  <style>\n",
              "    .colab-df-container {\n",
              "      display:flex;\n",
              "      flex-wrap:wrap;\n",
              "      gap: 12px;\n",
              "    }\n",
              "\n",
              "    .colab-df-convert {\n",
              "      background-color: #E8F0FE;\n",
              "      border: none;\n",
              "      border-radius: 50%;\n",
              "      cursor: pointer;\n",
              "      display: none;\n",
              "      fill: #1967D2;\n",
              "      height: 32px;\n",
              "      padding: 0 0 0 0;\n",
              "      width: 32px;\n",
              "    }\n",
              "\n",
              "    .colab-df-convert:hover {\n",
              "      background-color: #E2EBFA;\n",
              "      box-shadow: 0px 1px 2px rgba(60, 64, 67, 0.3), 0px 1px 3px 1px rgba(60, 64, 67, 0.15);\n",
              "      fill: #174EA6;\n",
              "    }\n",
              "\n",
              "    [theme=dark] .colab-df-convert {\n",
              "      background-color: #3B4455;\n",
              "      fill: #D2E3FC;\n",
              "    }\n",
              "\n",
              "    [theme=dark] .colab-df-convert:hover {\n",
              "      background-color: #434B5C;\n",
              "      box-shadow: 0px 1px 3px 1px rgba(0, 0, 0, 0.15);\n",
              "      filter: drop-shadow(0px 1px 2px rgba(0, 0, 0, 0.3));\n",
              "      fill: #FFFFFF;\n",
              "    }\n",
              "  </style>\n",
              "\n",
              "      <script>\n",
              "        const buttonEl =\n",
              "          document.querySelector('#df-b7ba6cc0-203e-4740-b817-82ceb4fb7ef1 button.colab-df-convert');\n",
              "        buttonEl.style.display =\n",
              "          google.colab.kernel.accessAllowed ? 'block' : 'none';\n",
              "\n",
              "        async function convertToInteractive(key) {\n",
              "          const element = document.querySelector('#df-b7ba6cc0-203e-4740-b817-82ceb4fb7ef1');\n",
              "          const dataTable =\n",
              "            await google.colab.kernel.invokeFunction('convertToInteractive',\n",
              "                                                     [key], {});\n",
              "          if (!dataTable) return;\n",
              "\n",
              "          const docLinkHtml = 'Like what you see? Visit the ' +\n",
              "            '<a target=\"_blank\" href=https://colab.research.google.com/notebooks/data_table.ipynb>data table notebook</a>'\n",
              "            + ' to learn more about interactive tables.';\n",
              "          element.innerHTML = '';\n",
              "          dataTable['output_type'] = 'display_data';\n",
              "          await google.colab.output.renderOutput(dataTable, element);\n",
              "          const docLink = document.createElement('div');\n",
              "          docLink.innerHTML = docLinkHtml;\n",
              "          element.appendChild(docLink);\n",
              "        }\n",
              "      </script>\n",
              "    </div>\n",
              "  </div>\n",
              "  "
            ],
            "text/plain": [
              "   id  Gender  Age  ...  Annual_Premium  Policy_Sales_Channel  Vintage\n",
              "0   1       1   44  ...         40454.0                  26.0      217\n",
              "1   2       1   76  ...         33536.0                  26.0      183\n",
              "2   3       1   47  ...         38294.0                  26.0       27\n",
              "3   4       1   21  ...         28619.0                 152.0      203\n",
              "4   5       0   29  ...         27496.0                 152.0       39\n",
              "\n",
              "[5 rows x 11 columns]"
            ]
          },
          "metadata": {},
          "execution_count": 43
        }
      ]
    },
    {
      "cell_type": "markdown",
      "source": [
        "## <b>Feature Selection"
      ],
      "metadata": {
        "id": "C3T9tOJy2I8V"
      }
    },
    {
      "cell_type": "code",
      "source": [
        "# from sklearn.ensemble import ExtraTreesClassifier\n",
        "# model = ExtraTreesClassifier()\n",
        "# model.fit(x,y)\n",
        "# print(model.feature_importances_)\n"
      ],
      "metadata": {
        "id": "wnm7OMIRIYB0"
      },
      "execution_count": null,
      "outputs": []
    },
    {
      "cell_type": "code",
      "source": [
        "# feat_importances = pd.Series(model.feature_importances_, index=x.columns)\n",
        "# feat_importances.nlargest(11).plot(kind='barh')\n",
        "# plt.show()"
      ],
      "metadata": {
        "id": "kASRNa2l1ePZ"
      },
      "execution_count": null,
      "outputs": []
    },
    {
      "cell_type": "markdown",
      "source": [
        "***We can remove less important features (Driving_License, Gender) from the data set***"
      ],
      "metadata": {
        "id": "ciJ6YtIQ3Ecx"
      }
    },
    {
      "cell_type": "code",
      "source": [
        "x=x.drop(['Driving_License','Gender'],axis=1)"
      ],
      "metadata": {
        "id": "RtZ7joGH26ad"
      },
      "execution_count": null,
      "outputs": []
    },
    {
      "cell_type": "code",
      "source": [
        "df[\"Response\"].value_counts()"
      ],
      "metadata": {
        "colab": {
          "base_uri": "https://localhost:8080/"
        },
        "id": "g_O9xy1r3CA-",
        "outputId": "bf941340-8702-4215-93ab-fbab83a4fe08"
      },
      "execution_count": null,
      "outputs": [
        {
          "output_type": "execute_result",
          "data": {
            "text/plain": [
              "0    334399\n",
              "1     46710\n",
              "Name: Response, dtype: int64"
            ]
          },
          "metadata": {},
          "execution_count": 71
        }
      ]
    },
    {
      "cell_type": "markdown",
      "source": [
        "**As we see, Target Variable category is unevenly distributed. Hence we need to handle this imbalanced data.**"
      ],
      "metadata": {
        "id": "FCj0ungL3oNy"
      }
    },
    {
      "cell_type": "markdown",
      "source": [
        "## Handling Data Imbalance"
      ],
      "metadata": {
        "id": "_cuBVmt34OmZ"
      }
    },
    {
      "cell_type": "code",
      "source": [
        "# from imblearn.over_sampling import RandomOverSampler\n",
        "# from collections import Counter\n",
        "# randomsample=  RandomOverSampler()\n",
        "# x_new,y_new=randomsample.fit_sample(x,y)"
      ],
      "metadata": {
        "id": "zF24M7sz3fxf"
      },
      "execution_count": null,
      "outputs": []
    },
    {
      "cell_type": "code",
      "source": [
        "\n",
        "\n",
        "# from imblearn.under_sampling import RandomUnderSampler\n",
        "# RUS = RandomUnderSampler(sampling_strategy=.5,random_state=3,)\n",
        "# X_train,Y_train  = RUS.fit_resample(df[Features],df1['Response'])"
      ],
      "metadata": {
        "id": "QbDG73jP6qvJ"
      },
      "execution_count": null,
      "outputs": []
    },
    {
      "cell_type": "markdown",
      "source": [
        "## Spliting of data into train and test data"
      ],
      "metadata": {
        "id": "vaycuxrM7fNz"
      }
    },
    {
      "cell_type": "code",
      "source": [
        "#dividing the dataset into training and testing\n",
        "xtrain,xtest,ytrain,ytest=train_test_split(x,y,test_size=.30,random_state=0)\n",
        "\n"
      ],
      "metadata": {
        "id": "BprG77ib7QGF"
      },
      "execution_count": null,
      "outputs": []
    },
    {
      "cell_type": "markdown",
      "source": [
        "## Scaling"
      ],
      "metadata": {
        "id": "AFhwsZAf73kk"
      }
    },
    {
      "cell_type": "code",
      "source": [
        "\n",
        "#feature scaling\n",
        "from sklearn.preprocessing import StandardScaler\n",
        "scaler=StandardScaler()\n",
        "xtrain=scaler.fit_transform(xtrain)\n",
        "xtest=scaler.transform(xtest)\n",
        "xtest"
      ],
      "metadata": {
        "colab": {
          "base_uri": "https://localhost:8080/"
        },
        "id": "2PPky5ZA7hAI",
        "outputId": "ab95dd28-a9a0-4d6d-d9e9-ad9a71e23aef"
      },
      "execution_count": null,
      "outputs": [
        {
          "output_type": "execute_result",
          "data": {
            "text/plain": [
              "array([[-0.95475991, -1.39062523,  1.08636261, ...,  0.47576066,\n",
              "         0.73670425,  1.34732072],\n",
              "       [ 0.14106638,  0.12146714, -0.92050296, ..., -0.32864093,\n",
              "         0.22013717,  0.02118141],\n",
              "       [ 2.13933784, -1.39062523, -0.92050296, ...,  4.82773917,\n",
              "        -1.58784763, -1.00627787],\n",
              "       ...,\n",
              "       [-0.82583917, -0.8613929 ,  1.08636261, ...,  0.49794502,\n",
              "         0.73670425,  1.02474629],\n",
              "       [ 0.65674934, -0.0297421 , -0.92050296, ...,  0.38253974,\n",
              "         0.93964132, -0.98238347],\n",
              "       [ 0.72120971,  0.65069947, -0.92050296, ..., -0.18441344,\n",
              "         0.22013717, -0.0982906 ]])"
            ]
          },
          "metadata": {},
          "execution_count": 75
        }
      ]
    },
    {
      "cell_type": "markdown",
      "source": [
        "Problem can be identified as Binary Classification (wheather customer opts for vehicle insurance or not)\n",
        "\n",
        "Dataset has more than 300k records\n",
        "\n",
        "cannot go with SVM Classifier as it takes more time to train as dataset increase\n",
        "\n",
        "Idea is to start selection of models as:\n",
        "\n",
        " 1.Logistic Regression\n",
        "\n",
        " 2.Random Forest\n",
        "\n",
        " 3.XGBClassifier"
      ],
      "metadata": {
        "id": "cXjffuOl71gE"
      }
    },
    {
      "cell_type": "markdown",
      "source": [
        "## Model Training & Evaluation"
      ],
      "metadata": {
        "id": "chov2N0J9j41"
      }
    },
    {
      "cell_type": "markdown",
      "source": [
        "## Logistic Regression"
      ],
      "metadata": {
        "id": "US6axlXM9o1Y"
      }
    },
    {
      "cell_type": "code",
      "source": [
        "# Logistic Regression Algorithm\n",
        "logreg=LogisticRegression()\n",
        "logreg.fit(xtrain,ytrain)\n",
        "\n",
        "# Model Prediction\n",
        "ypred=logreg.predict(xtest)\n"
      ],
      "metadata": {
        "id": "rJOoSPfj-Q6o"
      },
      "execution_count": null,
      "outputs": []
    },
    {
      "cell_type": "code",
      "source": [
        "# Model Evaluation\n",
        "print(f\"Logistic regression \\n{classification_report(ytest, ypred)}\")"
      ],
      "metadata": {
        "colab": {
          "base_uri": "https://localhost:8080/"
        },
        "id": "A_NKdV_v_6Tr",
        "outputId": "2cfd6539-cd77-42ab-d928-d61fd9df9d88"
      },
      "execution_count": null,
      "outputs": [
        {
          "output_type": "stream",
          "name": "stdout",
          "text": [
            "Logistic regression \n",
            "              precision    recall  f1-score   support\n",
            "\n",
            "           0       0.88      1.00      0.93    100241\n",
            "           1       0.00      0.00      0.00     14092\n",
            "\n",
            "    accuracy                           0.88    114333\n",
            "   macro avg       0.44      0.50      0.47    114333\n",
            "weighted avg       0.77      0.88      0.82    114333\n",
            "\n"
          ]
        }
      ]
    },
    {
      "cell_type": "markdown",
      "source": [
        "## Decision Tree Classifier"
      ],
      "metadata": {
        "id": "-sw90YTNAa9v"
      }
    },
    {
      "cell_type": "code",
      "source": [
        "from sklearn.linear_model import LogisticRegression\n",
        "from sklearn.neighbors import KNeighborsClassifier\n",
        "from sklearn.svm import SVC\n",
        "from sklearn.tree import DecisionTreeClassifier\n",
        "from sklearn.metrics import classification_report"
      ],
      "metadata": {
        "id": "7WCi5lf7B69Y"
      },
      "execution_count": null,
      "outputs": []
    },
    {
      "cell_type": "code",
      "source": [
        "models = []\n",
        "models.append((\"DT-gini  \", DecisionTreeClassifier(criterion=\"gini\")))\n",
        "models.append((\"DT-entropy  \", DecisionTreeClassifier(criterion=\"entropy\")))\n",
        "\n",
        "\n",
        "for name, model in models:\n",
        "    model.fit(xtrain, ytrain)\n",
        "    ypred= model.predict(xtest)\n",
        "    print(f\"Name -: {name}\\n{classification_report(ytest, ypred)}\")"
      ],
      "metadata": {
        "colab": {
          "base_uri": "https://localhost:8080/"
        },
        "id": "kzx-MDb7Aaj8",
        "outputId": "80d2995f-16b6-4a12-a7f9-9941bb9a7dd7"
      },
      "execution_count": null,
      "outputs": [
        {
          "output_type": "stream",
          "name": "stdout",
          "text": [
            "Name -: DT-gini  \n",
            "              precision    recall  f1-score   support\n",
            "\n",
            "           0       0.90      0.90      0.90    100241\n",
            "           1       0.29      0.31      0.30     14092\n",
            "\n",
            "    accuracy                           0.82    114333\n",
            "   macro avg       0.60      0.60      0.60    114333\n",
            "weighted avg       0.83      0.82      0.82    114333\n",
            "\n",
            "Name -: DT-entropy  \n",
            "              precision    recall  f1-score   support\n",
            "\n",
            "           0       0.90      0.90      0.90    100241\n",
            "           1       0.29      0.30      0.30     14092\n",
            "\n",
            "    accuracy                           0.83    114333\n",
            "   macro avg       0.60      0.60      0.60    114333\n",
            "weighted avg       0.83      0.83      0.83    114333\n",
            "\n"
          ]
        }
      ]
    },
    {
      "cell_type": "code",
      "source": [
        "# Model Evaluation\n",
        "print(f\"Decision Tree Classifier \\n{classification_report(ytest, ypred)}\")"
      ],
      "metadata": {
        "colab": {
          "base_uri": "https://localhost:8080/"
        },
        "id": "slwpr4xM94VB",
        "outputId": "ea47f797-0e9c-4782-b4bb-76095daed4dd"
      },
      "execution_count": null,
      "outputs": [
        {
          "output_type": "stream",
          "name": "stdout",
          "text": [
            "Decision Tree Classifier \n",
            "              precision    recall  f1-score   support\n",
            "\n",
            "           0       0.90      0.90      0.90    100241\n",
            "           1       0.29      0.30      0.30     14092\n",
            "\n",
            "    accuracy                           0.83    114333\n",
            "   macro avg       0.60      0.60      0.60    114333\n",
            "weighted avg       0.83      0.83      0.83    114333\n",
            "\n"
          ]
        }
      ]
    },
    {
      "cell_type": "markdown",
      "source": [
        "## Random Forest Classifier"
      ],
      "metadata": {
        "id": "Sd5xK5Z2BYkL"
      }
    },
    {
      "cell_type": "code",
      "source": [
        "# Random Forest Classifier Algorithm\n",
        "random_forest=RandomForestClassifier()\n",
        "random_forest.fit(xtrain,ytrain)\n",
        "\n",
        "# Model Prediction\n",
        "ypred=random_forest.predict(xtest)"
      ],
      "metadata": {
        "id": "kuPJJWZuBOYl"
      },
      "execution_count": null,
      "outputs": []
    },
    {
      "cell_type": "code",
      "source": [
        "# Model Evaluation\n",
        "from sklearn import metrics\n",
        "print(f\"Random Forest Classifier \\n{classification_report(ytest, ypred)}\")\n",
        "print(metrics.confusion_matrix(ytest, ypred))"
      ],
      "metadata": {
        "colab": {
          "base_uri": "https://localhost:8080/"
        },
        "id": "DcuDHZOtCduy",
        "outputId": "722be282-fcc4-448f-888b-7dbec2022982"
      },
      "execution_count": null,
      "outputs": [
        {
          "output_type": "stream",
          "name": "stdout",
          "text": [
            "Random Forest Classifier \n",
            "              precision    recall  f1-score   support\n",
            "\n",
            "           0       0.89      0.97      0.93    100241\n",
            "           1       0.36      0.13      0.19     14092\n",
            "\n",
            "    accuracy                           0.86    114333\n",
            "   macro avg       0.62      0.55      0.56    114333\n",
            "weighted avg       0.82      0.86      0.84    114333\n",
            "\n",
            "[[97087  3154]\n",
            " [12306  1786]]\n"
          ]
        }
      ]
    },
    {
      "cell_type": "markdown",
      "source": [
        "## Hyperparameter Tunning"
      ],
      "metadata": {
        "id": "FGJHyolBGjLg"
      }
    },
    {
      "cell_type": "code",
      "source": [
        "from sklearn.model_selection import train_test_split, RandomizedSearchCV, StratifiedKFold, KFold, GridSearchCV\n",
        "random_search = {'criterion': ['entropy', 'gini'],\n",
        "               'max_depth': [2,3,4,5,6,7,10],\n",
        "               'min_samples_leaf': [4, 6, 8],\n",
        "               'min_samples_split': [5, 7,10],\n",
        "               'n_estimators': [300]}\n",
        "\n",
        "random_f = RandomForestClassifier()\n",
        "model = RandomizedSearchCV(estimator = random_f, param_distributions = random_search, n_iter = 10, \n",
        "                               cv = 4, verbose= 1, random_state= 101, n_jobs = -1)\n",
        "model.fit(xtrain,ytrain)"
      ],
      "metadata": {
        "colab": {
          "base_uri": "https://localhost:8080/"
        },
        "id": "B1XIPv3aDedI",
        "outputId": "d04c9407-cd45-417a-e6e8-9f21b2ce7075"
      },
      "execution_count": null,
      "outputs": [
        {
          "output_type": "stream",
          "name": "stdout",
          "text": [
            "Fitting 4 folds for each of 10 candidates, totalling 40 fits\n"
          ]
        }
      ]
    },
    {
      "cell_type": "code",
      "source": [
        ""
      ],
      "metadata": {
        "id": "Kxvs39GiG0XZ"
      },
      "execution_count": null,
      "outputs": []
    }
  ]
}